{
 "cells": [
  {
   "cell_type": "markdown",
   "metadata": {},
   "source": [
    "# Using Natural Language Processing to Generate New Recipes in Python\n",
    "## Task 6: Investigating Finetuning Model Performance"
   ]
  },
  {
   "cell_type": "code",
   "execution_count": 1,
   "metadata": {},
   "outputs": [],
   "source": [
    "from transformers import AutoModelForCausalLM, AutoTokenizer"
   ]
  },
  {
   "cell_type": "code",
   "execution_count": 2,
   "metadata": {},
   "outputs": [],
   "source": [
    "tokenizer = AutoTokenizer.from_pretrained('TrainedModels/Model_10_epochs/')\n",
    "model = AutoModelForCausalLM.from_pretrained('TrainedModels/Model_10_epochs/')"
   ]
  },
  {
   "cell_type": "code",
   "execution_count": 34,
   "metadata": {},
   "outputs": [],
   "source": [
    "# read couple of examples from our validation data\n",
    "with open('Dataset/dataset_val.txt', 'r') as f:\n",
    "    data = f.read()"
   ]
  },
  {
   "cell_type": "code",
   "execution_count": 35,
   "metadata": {},
   "outputs": [],
   "source": [
    "special_token = '<|endoftext|>'"
   ]
  },
  {
   "cell_type": "code",
   "execution_count": 36,
   "metadata": {},
   "outputs": [
    {
     "name": "stdout",
     "output_type": "stream",
     "text": [
      " \n",
      " Ingredients: \n",
      " 6 large potatoes, cut in pieces \n",
      " 2 medium onions, chopped \n",
      " 6 stalks celery, chopped small \n",
      " Enough vegetable oil for saute \n",
      " 8-10 pieces of old bread, broken into bite-size pieces \n",
      " 1/4 to 1/2 cup milk \n",
      " 4 raw eggs, beaten \n",
      " Salt and pepper \n",
      " 4-5 tablespoons fresh parsley, chopped fine \n",
      " 1-2 tablespoons poultry seasoning \n",
      " Stock from the giblets and neck \n",
      " 1/2 stick of butter, cut into pieces \n",
      " Instructions: \n",
      " Boil potatoes in salted water. Saute onion and celery in oil. Add salt and pepper to taste. Boil the giblets and neck in salted water to make stock. Moisten bread with milk. Smash the potatoes in a large bowl. (I use a small roasting pan, and then I roast the filling right in it.) Add all other ingredients including all spices and oil from saute. When adding the eggs, add a little of the hot mixture to the eggs first and beat well, so as to not scramble them when they go into the whole mix. Mix thoroughly. If it needs more moisture, add the stock, a little at a time. Taste to make sure enough spices are added. Add more salt and pepper and poultry seasoning, if needed. Bake at 350 degrees in a greased casserole dish or roasting pan until very hot and browned, usually one hour. Dot the top with pats of butter before putting into oven. I know some people chop the giblets and add to the filling, but I don't. \n"
     ]
    }
   ],
   "source": [
    "data = data.split(special_token)\n",
    "print(data[0])"
   ]
  },
  {
   "cell_type": "code",
   "execution_count": 37,
   "metadata": {},
   "outputs": [],
   "source": [
    "prompt_text = data[100].split('Instructions:')[0] + '\\n Instructions: \\n'"
   ]
  },
  {
   "cell_type": "code",
   "execution_count": 38,
   "metadata": {},
   "outputs": [
    {
     "name": "stdout",
     "output_type": "stream",
     "text": [
      " \n",
      " \n",
      " Ingredients: \n",
      " 2 sticks unsalted butter, at room temperature \n",
      " 5 scallions, pale green and white parts only, finely chopped \n",
      " 3 cloves garlic, minced \n",
      " 3 tablespoons soy sauce \n",
      " 1/3 cup extra-virgin olive oil \n",
      " 4 cloves garlic, minced \n",
      " 1 teaspoon kosher salt \n",
      " 1 teaspoon freshly ground black pepper \n",
      " 8 ounces (about 12) medium-size button or cremini mushrooms, halved \n",
      " 1 pound (about 28) large shrimp, peeled and deveined \n",
      " 1 pound sirloin steak, about 3/4-inch thick, cut into 28 (1-inch) pieces \n",
      " 20 (6 to 8-inch) wooden skewers, soaked in water for 30 minutes to prevent scorching \n",
      " \n",
      " Instructions: \n",
      "\n"
     ]
    }
   ],
   "source": [
    "print(prompt_text)"
   ]
  },
  {
   "cell_type": "code",
   "execution_count": 44,
   "metadata": {},
   "outputs": [],
   "source": [
    "prompt_text = 'Ingredients: \\n 5 eggs \\n butter \\n cheese \\n breadcrumbs \\n' \n",
    "prompt_text += '\\n Instructions: '"
   ]
  },
  {
   "cell_type": "code",
   "execution_count": 45,
   "metadata": {},
   "outputs": [],
   "source": [
    "encoded_prompt = tokenizer.encode(\n",
    "    prompt_text,\n",
    "    add_special_tokens=False,\n",
    "    return_tensors= 'pt'\n",
    ")"
   ]
  },
  {
   "cell_type": "code",
   "execution_count": 46,
   "metadata": {},
   "outputs": [
    {
     "name": "stderr",
     "output_type": "stream",
     "text": [
      "Setting `pad_token_id` to 50256 (first `eos_token_id`) to generate sequence\n"
     ]
    }
   ],
   "source": [
    "output_sequences = model.generate(\n",
    "    input_ids= encoded_prompt,\n",
    "    max_length=700,\n",
    "    temprature= 0.9,\n",
    "    # potential possibilities\n",
    "    top_k=20,\n",
    "    # top probabilities\n",
    "    top_p=0.9,\n",
    "    # how much it should penalize repeating the same word in an input from1 to infinity\n",
    "    repetition_penalty= 1,\n",
    "    do_sample=True,\n",
    "    # how many sequences\n",
    "    num_return_sequences=4\n",
    ")"
   ]
  },
  {
   "cell_type": "code",
   "execution_count": 47,
   "metadata": {},
   "outputs": [
    {
     "name": "stdout",
     "output_type": "stream",
     "text": [
      "...\n",
      "Generated Output #1\n",
      "...\n",
      "Ingredients: \n",
      " 5 eggs \n",
      " butter \n",
      " cheese \n",
      " breadcrumbs \n",
      "\n",
      " Instructions: \n",
      " Preheat the oven to 350 degrees. Beat together the eggs, butter, and cheese in a mixing bowl. Add the breadcrumbs and mix together. Press the bread mixture into the bottom of a 9x13 inch baking pan. Bake for 30 minutes, until golden brown. \n",
      "...\n",
      "Generated Output #2\n",
      "...\n",
      "Ingredients: \n",
      " 5 eggs \n",
      " butter \n",
      " cheese \n",
      " breadcrumbs \n",
      "\n",
      " Instructions: \n",
      " Cut the egg whites into 4 pieces and put them in the bowl of a food processor. Add the cream cheese, sugar and salt and pulse to combine. Add the egg yolks and pulse until the mixture is in pea-size pieces. With the motor running, drizzle in the melted butter. Add the cheese and mix until all the cheese is melted and smooth. Serve on a bed of breadcrumbs and garnish with a few pinches of the parsley. \n",
      "...\n",
      "Generated Output #3\n",
      "...\n",
      "Ingredients: \n",
      " 5 eggs \n",
      " butter \n",
      " cheese \n",
      " breadcrumbs \n",
      "\n",
      " Instructions: \n",
      " Preheat oven to 375 degrees F. In a medium bowl, mix eggs, butter, cheese and breadcrumbs together until well blended. Stuff each eggshell with cheese mixture. Bake for 30 to 35 minutes until the eggs are set and the cheese is beginning to brown. \n",
      "...\n",
      "Generated Output #4\n",
      "...\n",
      "Ingredients: \n",
      " 5 eggs \n",
      " butter \n",
      " cheese \n",
      " breadcrumbs \n",
      "\n",
      " Instructions: \n",
      " Place the eggs in a pan, cover with cold water and cook until set but not yet browned. Drain and let cool. In a separate bowl, beat together eggs and butter until fluffy. Stir in cheese, and set aside. Place breadcrumbs into a shallow bowl. Dip each chicken breast half into the eggs and then into the breadcrumbs until the breadcrumbs are evenly coated. Place the coated breasts in a 9 by 13-inch baking dish. Pour the egg mixture over the chicken and bake for 20 to 25 minutes in the preheated oven, or until the chicken is cooked through. Remove from oven, and let cool. \n"
     ]
    }
   ],
   "source": [
    "# iterate over these sequences\n",
    "for i, output_sequence in enumerate(output_sequences):\n",
    "    result = tokenizer.decode(output_sequence)\n",
    "    # cut the string when it reach specific token: location of a string when the token exist\n",
    "    result = result[:result.index(special_token)]\n",
    "    print('...')\n",
    "    print(f'Generated Output #{i+1}')\n",
    "    print('...')\n",
    "    print(result)"
   ]
  },
  {
   "cell_type": "code",
   "execution_count": null,
   "metadata": {},
   "outputs": [],
   "source": []
  }
 ],
 "metadata": {
  "kernelspec": {
   "display_name": "Python 3",
   "language": "python",
   "name": "python3"
  },
  "language_info": {
   "codemirror_mode": {
    "name": "ipython",
    "version": 3
   },
   "file_extension": ".py",
   "mimetype": "text/x-python",
   "name": "python",
   "nbconvert_exporter": "python",
   "pygments_lexer": "ipython3",
   "version": "3.6.9"
  }
 },
 "nbformat": 4,
 "nbformat_minor": 4
}
